{
 "cells": [
  {
   "cell_type": "code",
   "execution_count": null,
   "metadata": {
    "collapsed": true
   },
   "outputs": [],
   "source": [
    "import folium\n",
    "import json\n",
    "import numpy as np\n",
    "import pandas as pd\n",
    "\n",
    "%config InlineBackend.figure_format = 'retina'"
   ]
  },
  {
   "cell_type": "code",
   "execution_count": null,
   "metadata": {},
   "outputs": [],
   "source": [
    "global_temp = pd.read_csv('GlobalTemperatures.csv', delimiter=',', parse_dates=['dt'])"
   ]
  },
  {
   "cell_type": "code",
   "execution_count": null,
   "metadata": {
    "collapsed": true
   },
   "outputs": [],
   "source": [
    "country_temp = pd.read_csv('GlobalLandTemperaturesByCountry.csv', delimiter=',', parse_dates=['dt'])"
   ]
  },
  {
   "cell_type": "code",
   "execution_count": null,
   "metadata": {
    "collapsed": true
   },
   "outputs": [],
   "source": [
    "state_temp = pd.read_csv('GlobalLandTemperaturesByState.csv', delimiter=',', parse_dates=['dt'])"
   ]
  },
  {
   "cell_type": "code",
   "execution_count": null,
   "metadata": {
    "collapsed": true
   },
   "outputs": [],
   "source": [
    "major_city_temp = pd.read_csv('GlobalLandTemperaturesByMajorCity.csv', delimiter=',', parse_dates=['dt'])"
   ]
  },
  {
   "cell_type": "code",
   "execution_count": null,
   "metadata": {
    "collapsed": true
   },
   "outputs": [],
   "source": [
    "city_temp = pd.read_csv('GlobalLandTemperaturesByCity.csv', delimiter=',', parse_dates=['dt'])"
   ]
  },
  {
   "cell_type": "code",
   "execution_count": null,
   "metadata": {
    "collapsed": true
   },
   "outputs": [],
   "source": [
    "def season(df, groupby):\n",
    "    df1 = df.copy()\n",
    "    replace = {1: 'winter', 2: 'winter', 3: 'winter', 4: 'spring', 5: 'spring', 6: 'spring', \n",
    "               7: 'summer', 8: 'summer', 9: 'summer', 10: 'fall', 11: 'fall', 12: 'fall'}\n",
    "    \n",
    "    df1['year'] = df1['dt'].dt.year\n",
    "    df1['month'] = df1['dt'].dt.month\n",
    "    \n",
    "    df1['season'] = df1['month'].astype(int).replace(replace)\n",
    "    df1 = df1.drop(['dt', 'month'], 1)\n",
    "    df1 = df1.groupby(groupby).mean()\n",
    "    return df1"
   ]
  },
  {
   "cell_type": "code",
   "execution_count": null,
   "metadata": {
    "collapsed": true
   },
   "outputs": [],
   "source": [
    "global_temp_season = season(global_temp, ['year', 'season'])\n",
    "global_temp_season.to_csv('global_temp_season.csv')"
   ]
  },
  {
   "cell_type": "code",
   "execution_count": null,
   "metadata": {
    "collapsed": true
   },
   "outputs": [],
   "source": [
    "country_temp_season = season(country_temp, ['Country', 'year', 'season'])\n",
    "country_temp_season.to_csv('country_temp_season.csv')"
   ]
  },
  {
   "cell_type": "code",
   "execution_count": null,
   "metadata": {
    "collapsed": true
   },
   "outputs": [],
   "source": [
    "state_temp_season = season(state_temp, ['Country', 'State', 'year', 'season'])\n",
    "state_temp_season.to_csv('state_temp_season.csv')"
   ]
  },
  {
   "cell_type": "code",
   "execution_count": null,
   "metadata": {
    "collapsed": true
   },
   "outputs": [],
   "source": [
    "major_city_temp_season = season(major_city_temp, ['Country', 'City', 'Latitude', 'Longitude', 'year', 'season'])\n",
    "major_city_temp_season.to_csv('major_city_temp_season.csv')"
   ]
  },
  {
   "cell_type": "code",
   "execution_count": null,
   "metadata": {
    "collapsed": true
   },
   "outputs": [],
   "source": [
    "city_temp_season = season(city_temp, ['Country', 'City', 'Latitude', 'Longitude', 'year', 'season'])\n",
    "city_temp_season.to_csv('city_temp_season.csv')"
   ]
  },
  {
   "cell_type": "code",
   "execution_count": null,
   "metadata": {
    "collapsed": true
   },
   "outputs": [],
   "source": [
    "france_temp = country_temp_season.iloc[country_temp_season.index.get_level_values('Country') == 'France']\n",
    "france_temp"
   ]
  },
  {
   "cell_type": "code",
   "execution_count": null,
   "metadata": {
    "collapsed": true
   },
   "outputs": [],
   "source": [
    "lyon_temp = city_temp_season.iloc[city_temp_season.index.get_level_values('City') == 'Lyon']\n",
    "lyon_temp"
   ]
  }
 ],
 "metadata": {
  "kernelspec": {
   "display_name": "Python 3",
   "language": "python",
   "name": "python3"
  },
  "language_info": {
   "codemirror_mode": {
    "name": "ipython",
    "version": 3
   },
   "file_extension": ".py",
   "mimetype": "text/x-python",
   "name": "python",
   "nbconvert_exporter": "python",
   "pygments_lexer": "ipython3",
   "version": "3.6.1"
  }
 },
 "nbformat": 4,
 "nbformat_minor": 2
}
